{
 "cells": [
  {
   "cell_type": "code",
   "execution_count": 1,
   "metadata": {},
   "outputs": [],
   "source": [
    "#imports\n",
    "#numpy,pandas,scipy, math, matplotlib\n",
    "import numpy as np\n",
    "import pandas as pd\n",
    "import scipy\n",
    "from math import sqrt\n",
    "import matplotlib.pyplot as plt\n",
    "import pylab as pl\n",
    "import seaborn as sns\n",
    "\n",
    "# preprocessing\n",
    "from sklearn import preprocessing\n",
    "\n",
    "\n",
    "#estimators\n",
    "from sklearn.ensemble import RandomForestRegressor\n",
    "from sklearn.linear_model import LinearRegression\n",
    "from sklearn.svm import SVR\n",
    "from sklearn import linear_model\n",
    "from sklearn.tree import DecisionTreeClassifier\n",
    "from sklearn.ensemble import RandomForestClassifier\n",
    "from sklearn import tree\n",
    "from sklearn.neighbors import KNeighborsClassifier\n",
    "\n",
    "\n",
    "\n",
    "#model metrics\n",
    "from sklearn.metrics import mean_squared_error # regression\n",
    "from sklearn.metrics import r2_score # regression\n",
    "from sklearn.metrics import cohen_kappa_score # classification\n",
    "from sklearn.metrics import accuracy_score # classification\n",
    "from sklearn.metrics import classification_report # sensitivity\n",
    "\n",
    "from sklearn.model_selection import cross_val_score\n",
    "from sklearn.metrics import confusion_matrix # classification\n",
    "from sklearn.tree import export_graphviz\n",
    "from sklearn.metrics import recall_score\n",
    "from sklearn import svm, datasets\n",
    "from sklearn.utils.multiclass import unique_labels\n",
    "from imblearn.over_sampling import SMOTE\n",
    "\n",
    "\n",
    "#cross validation\n",
    "from sklearn.model_selection import train_test_split\n"
   ]
  },
  {
   "cell_type": "code",
   "execution_count": 2,
   "metadata": {},
   "outputs": [],
   "source": [
    "# load data\n",
    "rawData = pd.read_csv('creditSUB.csv', header =0)\n",
    "rawData = rawData[rawData.columns[1:len(rawData.columns)]]\n"
   ]
  },
  {
   "cell_type": "code",
   "execution_count": 3,
   "metadata": {},
   "outputs": [],
   "source": [
    "# select the features from the dataet\n",
    "rawData = rawData[['LIMIT_BAL', 'MEAN_DELAY', 'EDUCATION', 'AGE',\n",
    "                              'RATIO_CREDIT_SEP', 'MEAN_BILL', 'MEAN_PAID', \n",
    "                              'PAID_SEP','BILL_SEP','DEFAULT']]\n",
    "\n",
    "# select features for training\n",
    "indepVar = rawData.drop('DEFAULT', axis=1)\n",
    "\n",
    "# dependent variable\n",
    "depVar = rawData['DEFAULT']"
   ]
  },
  {
   "cell_type": "code",
   "execution_count": 4,
   "metadata": {},
   "outputs": [
    {
     "data": {
      "text/plain": [
       "0    23364\n",
       "1     6636\n",
       "Name: DEFAULT, dtype: int64"
      ]
     },
     "execution_count": 4,
     "metadata": {},
     "output_type": "execute_result"
    },
    {
     "data": {
      "image/png": "[encoded data removed]",
      "text/plain": [
       "<Figure size 432x288 with 1 Axes>"
      ]
     },
     "metadata": {
      "needs_background": "light"
     },
     "output_type": "display_data"
    }
   ],
   "source": [
    "# check the balans of the dataset and rebalance if necessary\n",
    "pd.value_counts(rawData['DEFAULT']).plot.bar()\n",
    "plt.title('DEFAULT  histogram')\n",
    "plt.xlabel('DEFAULT')\n",
    "plt.ylabel('Frequency')\n",
    "rawData['DEFAULT'].value_counts()\n",
    "\n",
    "# Make sure you do it the right way: oversampling on only the training data."
   ]
  },
  {
   "cell_type": "code",
   "execution_count": 5,
   "metadata": {},
   "outputs": [
    {
     "name": "stdout",
     "output_type": "stream",
     "text": [
      "Summary of feature sample\n"
     ]
    },
    {
     "data": {
      "text/html": [
       "<div>\n",
       "<style scoped>\n",
       "    .dataframe tbody tr th:only-of-type {\n",
       "        vertical-align: middle;\n",
       "    }\n",
       "\n",
       "    .dataframe tbody tr th {\n",
       "        vertical-align: top;\n",
       "    }\n",
       "\n",
       "    .dataframe thead th {\n",
       "        text-align: right;\n",
       "    }\n",
       "</style>\n",
       "<table border=\"1\" class=\"dataframe\">\n",
       "  <thead>\n",
       "    <tr style=\"text-align: right;\">\n",
       "      <th></th>\n",
       "      <th>LIMIT_BAL</th>\n",
       "      <th>MEAN_DELAY</th>\n",
       "      <th>EDUCATION</th>\n",
       "      <th>AGE</th>\n",
       "      <th>RATIO_CREDIT_SEP</th>\n",
       "      <th>MEAN_BILL</th>\n",
       "      <th>MEAN_PAID</th>\n",
       "      <th>PAID_SEP</th>\n",
       "      <th>BILL_SEP</th>\n",
       "    </tr>\n",
       "  </thead>\n",
       "  <tbody>\n",
       "    <tr>\n",
       "      <th>0</th>\n",
       "      <td>20000</td>\n",
       "      <td>-0.333333</td>\n",
       "      <td>2</td>\n",
       "      <td>24</td>\n",
       "      <td>0.195650</td>\n",
       "      <td>1284.000000</td>\n",
       "      <td>114.833333</td>\n",
       "      <td>0</td>\n",
       "      <td>3913</td>\n",
       "    </tr>\n",
       "    <tr>\n",
       "      <th>1</th>\n",
       "      <td>120000</td>\n",
       "      <td>0.500000</td>\n",
       "      <td>2</td>\n",
       "      <td>26</td>\n",
       "      <td>0.022350</td>\n",
       "      <td>2846.166667</td>\n",
       "      <td>833.333333</td>\n",
       "      <td>0</td>\n",
       "      <td>2682</td>\n",
       "    </tr>\n",
       "    <tr>\n",
       "      <th>2</th>\n",
       "      <td>90000</td>\n",
       "      <td>0.000000</td>\n",
       "      <td>2</td>\n",
       "      <td>34</td>\n",
       "      <td>0.324878</td>\n",
       "      <td>16942.166667</td>\n",
       "      <td>1836.333333</td>\n",
       "      <td>1518</td>\n",
       "      <td>29239</td>\n",
       "    </tr>\n",
       "    <tr>\n",
       "      <th>3</th>\n",
       "      <td>50000</td>\n",
       "      <td>0.000000</td>\n",
       "      <td>2</td>\n",
       "      <td>37</td>\n",
       "      <td>0.939800</td>\n",
       "      <td>38555.666667</td>\n",
       "      <td>1398.000000</td>\n",
       "      <td>2000</td>\n",
       "      <td>46990</td>\n",
       "    </tr>\n",
       "    <tr>\n",
       "      <th>4</th>\n",
       "      <td>50000</td>\n",
       "      <td>-0.333333</td>\n",
       "      <td>2</td>\n",
       "      <td>57</td>\n",
       "      <td>0.172340</td>\n",
       "      <td>18223.166667</td>\n",
       "      <td>9841.500000</td>\n",
       "      <td>2000</td>\n",
       "      <td>8617</td>\n",
       "    </tr>\n",
       "  </tbody>\n",
       "</table>\n",
       "</div>"
      ],
      "text/plain": [
       "   LIMIT_BAL  MEAN_DELAY  EDUCATION  AGE  RATIO_CREDIT_SEP     MEAN_BILL  \\\n",
       "0      20000   -0.333333          2   24          0.195650   1284.000000   \n",
       "1     120000    0.500000          2   26          0.022350   2846.166667   \n",
       "2      90000    0.000000          2   34          0.324878  16942.166667   \n",
       "3      50000    0.000000          2   37          0.939800  38555.666667   \n",
       "4      50000   -0.333333          2   57          0.172340  18223.166667   \n",
       "\n",
       "     MEAN_PAID  PAID_SEP  BILL_SEP  \n",
       "0   114.833333         0      3913  \n",
       "1   833.333333         0      2682  \n",
       "2  1836.333333      1518     29239  \n",
       "3  1398.000000      2000     46990  \n",
       "4  9841.500000      2000      8617  "
      ]
     },
     "execution_count": 5,
     "metadata": {},
     "output_type": "execute_result"
    }
   ],
   "source": [
    "print('Summary of feature sample')\n",
    "indepVar.head()"
   ]
  },
  {
   "cell_type": "code",
   "execution_count": 6,
   "metadata": {},
   "outputs": [
    {
     "name": "stdout",
     "output_type": "stream",
     "text": [
      "(21000, 9) (21000,)\n",
      "(9000, 9) (9000,)\n"
     ]
    }
   ],
   "source": [
    "np.random.seed(1)\n",
    "# generate a dataframe that functions as a trainingset\n",
    "X_train, X_test, y_train, y_test = train_test_split(indepVar, depVar, test_size=0.3)\n",
    "\n",
    "print(X_train.shape, y_train.shape)\n",
    "print(X_test.shape, y_test.shape)\n"
   ]
  },
  {
   "cell_type": "markdown",
   "metadata": {},
   "source": [
    "By oversampling only on the training data, none of the information in the validation data is being used to create synthetic observations. So these results should be generalizable."
   ]
  },
  {
   "cell_type": "code",
   "execution_count": 7,
   "metadata": {},
   "outputs": [
    {
     "name": "stdout",
     "output_type": "stream",
     "text": [
      "(32728, 9) (32728,)\n"
     ]
    }
   ],
   "source": [
    "# balance the trainingdata\n",
    "smote = SMOTE(random_state = 4)\n",
    "X_sm, y_sm = smote.fit_sample(X_train, y_train)\n",
    "\n",
    "print(X_sm.shape, y_sm.shape)\n"
   ]
  },
  {
   "cell_type": "code",
   "execution_count": 8,
   "metadata": {},
   "outputs": [],
   "source": [
    "# Choose your model\n",
    "modelRF = RandomForestClassifier()"
   ]
  },
  {
   "cell_type": "code",
   "execution_count": 9,
   "metadata": {},
   "outputs": [
    {
     "name": "stderr",
     "output_type": "stream",
     "text": [
      "/Users/else/anaconda3/lib/python3.7/site-packages/sklearn/ensemble/forest.py:246: FutureWarning: The default value of n_estimators will change from 10 in version 0.20 to 100 in 0.22.\n",
      "  \"10 in version 0.20 to 100 in 0.22.\", FutureWarning)\n"
     ]
    },
    {
     "name": "stdout",
     "output_type": "stream",
     "text": [
      "[0.65933394 0.81927895 0.90574397 0.9025359  0.91045232]\n"
     ]
    },
    {
     "data": {
      "text/plain": [
       "0.9901002199951112"
      ]
     },
     "execution_count": 9,
     "metadata": {},
     "output_type": "execute_result"
    }
   ],
   "source": [
    "# Random Forest  Classifier Fitting and Scoring\n",
    "modelRF.fit(X_sm, y_sm)\n",
    "print(cross_val_score(modelRF, X_sm, y_sm, cv=5))\n",
    "modelRF.score(X_sm,y_sm)\n"
   ]
  },
  {
   "cell_type": "code",
   "execution_count": 10,
   "metadata": {},
   "outputs": [
    {
     "data": {
      "text/html": [
       "<div>\n",
       "<style scoped>\n",
       "    .dataframe tbody tr th:only-of-type {\n",
       "        vertical-align: middle;\n",
       "    }\n",
       "\n",
       "    .dataframe tbody tr th {\n",
       "        vertical-align: top;\n",
       "    }\n",
       "\n",
       "    .dataframe thead th {\n",
       "        text-align: right;\n",
       "    }\n",
       "</style>\n",
       "<table border=\"1\" class=\"dataframe\">\n",
       "  <thead>\n",
       "    <tr style=\"text-align: right;\">\n",
       "      <th>Predicted</th>\n",
       "      <th>0</th>\n",
       "      <th>1</th>\n",
       "      <th>All</th>\n",
       "    </tr>\n",
       "    <tr>\n",
       "      <th>Actual</th>\n",
       "      <th></th>\n",
       "      <th></th>\n",
       "      <th></th>\n",
       "    </tr>\n",
       "  </thead>\n",
       "  <tbody>\n",
       "    <tr>\n",
       "      <th>0</th>\n",
       "      <td>6265</td>\n",
       "      <td>735</td>\n",
       "      <td>7000</td>\n",
       "    </tr>\n",
       "    <tr>\n",
       "      <th>1</th>\n",
       "      <td>1283</td>\n",
       "      <td>717</td>\n",
       "      <td>2000</td>\n",
       "    </tr>\n",
       "    <tr>\n",
       "      <th>All</th>\n",
       "      <td>7548</td>\n",
       "      <td>1452</td>\n",
       "      <td>9000</td>\n",
       "    </tr>\n",
       "  </tbody>\n",
       "</table>\n",
       "</div>"
      ],
      "text/plain": [
       "Predicted     0     1   All\n",
       "Actual                     \n",
       "0          6265   735  7000\n",
       "1          1283   717  2000\n",
       "All        7548  1452  9000"
      ]
     },
     "execution_count": 10,
     "metadata": {},
     "output_type": "execute_result"
    }
   ],
   "source": [
    "# make predictions with the Random Forest \n",
    "predictionsRF = modelRF.predict(X_test)\n",
    "confusionMatrixRF = confusion_matrix(y_test,predictionsRF)\n",
    "\n",
    "# print the confusion matrix\n",
    "confusionMatrixRF = pd.crosstab(y_test, predictionsRF, rownames=['Actual'], colnames=['Predicted'], margins=True)\n",
    "confusionMatrixRF"
   ]
  },
  {
   "cell_type": "code",
   "execution_count": 14,
   "metadata": {},
   "outputs": [
    {
     "name": "stdout",
     "output_type": "stream",
     "text": [
      "ACCURACY: 0.776\n",
      "KAPPA: 0.281\n"
     ]
    }
   ],
   "source": [
    "# print accuracy and kappa\n",
    "accuracyRF = accuracy_score(y_test, predictionsRF)\n",
    "kappaRF = cohen_kappa_score(y_test, predictionsRF)\n",
    "print('ACCURACY: %.3f' % accuracyRF)\n",
    "print('KAPPA: %.3f' % kappaRF)"
   ]
  },
  {
   "cell_type": "code",
   "execution_count": 12,
   "metadata": {},
   "outputs": [
    {
     "name": "stdout",
     "output_type": "stream",
     "text": [
      "              precision    recall  f1-score   support\n",
      "\n",
      "           0       0.83      0.90      0.86      7000\n",
      "           1       0.49      0.36      0.42      2000\n",
      "\n",
      "   micro avg       0.78      0.78      0.78      9000\n",
      "   macro avg       0.66      0.63      0.64      9000\n",
      "weighted avg       0.76      0.78      0.76      9000\n",
      "\n"
     ]
    }
   ],
   "source": [
    "# print accuracy, kappa and other statistics\n",
    "print(classification_report(y_test, predictionsRF))"
   ]
  },
  {
   "cell_type": "markdown",
   "metadata": {},
   "source": [
    "<b>Precision</b> means the percentage of your results which are relevant. It is the ratio of correctly predicted positive observations to the total predicted positive observations. \n",
    "\n",
    "<b>Recall</b> refers to the percentage of total relevant results correctly classified by your algorithm.\n",
    " \n",
    "So Recall actually calculates how many of the Actual Positives our model capture through labeling it as Positive (True Positive). Applying the same understanding, we know that Recall shall be the model metric we use to select our best model when there is a high cost associated with False Negative.\n",
    "\n",
    "<b>F1 Score</b> is needed when you want to seek a balance between Precision and Recall. We have previously seen that accuracy can be largely contributed by a large number of True Negatives which in most business circumstances, we do not focus on much. Whereas False Negative and False Positive usually has business costs (tangible & intangible) thus F1 Score might be a better measure to use if we need to seek a balance between Precision and Recall AND there is an uneven class distribution (large number of Actual Negatives).\n",
    "\n",
    "source: https://towardsdatascience.com/accuracy-precision-recall-or-f1-331fb37c5cb9"
   ]
  },
  {
   "cell_type": "code",
   "execution_count": 13,
   "metadata": {},
   "outputs": [
    {
     "data": {
      "text/plain": [
       "{0: 'LIMIT_BAL',\n",
       " 7: 'MEAN_DELAY',\n",
       " 3: 'EDUCATION',\n",
       " 8: 'AGE',\n",
       " 4: 'RATIO_CREDIT_SEP',\n",
       " 5: 'MEAN_BILL',\n",
       " 6: 'MEAN_PAID',\n",
       " 2: 'PAID_SEP',\n",
       " 1: 'BILL_SEP'}"
      ]
     },
     "execution_count": 13,
     "metadata": {},
     "output_type": "execute_result"
    }
   ],
   "source": [
    "# print feature importance of RF\n",
    "# list of column names from original data\n",
    "cols = indepVar.columns\n",
    "# feature importances from random forest fit rf\n",
    "rank = modelRF.feature_importances_\n",
    "# form dictionary of feature ranks and features\n",
    "features_dict = dict(zip(np.argsort(rank),cols))\n",
    "# the dictionary key are the importance rank; the values are the feature name\n",
    "features_dict"
   ]
  },
  {
   "cell_type": "code",
   "execution_count": 34,
   "metadata": {},
   "outputs": [
    {
     "name": "stderr",
     "output_type": "stream",
     "text": [
      "/Users/else/anaconda3/lib/python3.7/site-packages/ipykernel_launcher.py:4: SettingWithCopyWarning: \n",
      "A value is trying to be set on a copy of a slice from a DataFrame.\n",
      "Try using .loc[row_indexer,col_indexer] = value instead\n",
      "\n",
      "See the caveats in the documentation: http://pandas.pydata.org/pandas-docs/stable/indexing.html#indexing-view-versus-copy\n",
      "  after removing the cwd from sys.path.\n"
     ]
    }
   ],
   "source": [
    "# visualize the errrors\n",
    "# add predicted values to original dataframe\n",
    "\n",
    "X_test['Predictions'] = predictionsRF"
   ]
  },
  {
   "cell_type": "code",
   "execution_count": null,
   "metadata": {},
   "outputs": [],
   "source": []
  }
 ],
 "metadata": {
  "kernelspec": {
   "display_name": "Python 3",
   "language": "python",
   "name": "python3"
  },
  "language_info": {
   "codemirror_mode": {
    "name": "ipython",
    "version": 3
   },
   "file_extension": ".py",
   "mimetype": "text/x-python",
   "name": "python",
   "nbconvert_exporter": "python",
   "pygments_lexer": "ipython3",
   "version": "3.7.1"
  }
 },
 "nbformat": 4,
 "nbformat_minor": 2
}
